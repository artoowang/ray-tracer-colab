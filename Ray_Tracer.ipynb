{
  "nbformat": 4,
  "nbformat_minor": 0,
  "metadata": {
    "colab": {
      "name": "Ray Tracer",
      "provenance": [],
      "collapsed_sections": [],
      "toc_visible": true,
      "authorship_tag": "ABX9TyNUJcUWRMlrl17imJd1FqWL",
      "include_colab_link": true
    },
    "kernelspec": {
      "name": "python3",
      "display_name": "Python 3"
    },
    "language_info": {
      "name": "python"
    },
    "widgets": {
      "application/vnd.jupyter.widget-state+json": {
        "74dfea4f25cc4f1abd22ecc2c8931386": {
          "model_module": "@jupyter-widgets/controls",
          "model_name": "HBoxModel",
          "model_module_version": "1.5.0",
          "state": {
            "_dom_classes": [],
            "_model_module": "@jupyter-widgets/controls",
            "_model_module_version": "1.5.0",
            "_model_name": "HBoxModel",
            "_view_count": null,
            "_view_module": "@jupyter-widgets/controls",
            "_view_module_version": "1.5.0",
            "_view_name": "HBoxView",
            "box_style": "",
            "children": [
              "IPY_MODEL_7acdf8bdc16d4644862e9da8b2dc9456",
              "IPY_MODEL_cb7a47e391ea4fb9a0a4c62c552a7fc1",
              "IPY_MODEL_169e40623c8d47c784cac388f2476344"
            ],
            "layout": "IPY_MODEL_1481976f1a124c988d7c7eebb7670d28"
          }
        },
        "7acdf8bdc16d4644862e9da8b2dc9456": {
          "model_module": "@jupyter-widgets/controls",
          "model_name": "HTMLModel",
          "model_module_version": "1.5.0",
          "state": {
            "_dom_classes": [],
            "_model_module": "@jupyter-widgets/controls",
            "_model_module_version": "1.5.0",
            "_model_name": "HTMLModel",
            "_view_count": null,
            "_view_module": "@jupyter-widgets/controls",
            "_view_module_version": "1.5.0",
            "_view_name": "HTMLView",
            "description": "",
            "description_tooltip": null,
            "layout": "IPY_MODEL_0d47e5f98886490ba265889265747e70",
            "placeholder": "​",
            "style": "IPY_MODEL_71b6e707c8b047a98a4bed7b15029a1f",
            "value": "100%"
          }
        },
        "cb7a47e391ea4fb9a0a4c62c552a7fc1": {
          "model_module": "@jupyter-widgets/controls",
          "model_name": "FloatProgressModel",
          "model_module_version": "1.5.0",
          "state": {
            "_dom_classes": [],
            "_model_module": "@jupyter-widgets/controls",
            "_model_module_version": "1.5.0",
            "_model_name": "FloatProgressModel",
            "_view_count": null,
            "_view_module": "@jupyter-widgets/controls",
            "_view_module_version": "1.5.0",
            "_view_name": "ProgressView",
            "bar_style": "success",
            "description": "",
            "description_tooltip": null,
            "layout": "IPY_MODEL_205fb8876eeb419d9e8e58ec0a859a73",
            "max": 180,
            "min": 0,
            "orientation": "horizontal",
            "style": "IPY_MODEL_6ac4dc80f18e430788bf77704c3b88a6",
            "value": 180
          }
        },
        "169e40623c8d47c784cac388f2476344": {
          "model_module": "@jupyter-widgets/controls",
          "model_name": "HTMLModel",
          "model_module_version": "1.5.0",
          "state": {
            "_dom_classes": [],
            "_model_module": "@jupyter-widgets/controls",
            "_model_module_version": "1.5.0",
            "_model_name": "HTMLModel",
            "_view_count": null,
            "_view_module": "@jupyter-widgets/controls",
            "_view_module_version": "1.5.0",
            "_view_name": "HTMLView",
            "description": "",
            "description_tooltip": null,
            "layout": "IPY_MODEL_3ab579800556476caa36957f8987cb3f",
            "placeholder": "​",
            "style": "IPY_MODEL_72913bebc7bf45598815cb0167eb3206",
            "value": " 180/180 [00:00&lt;00:00, 332.50it/s]"
          }
        },
        "1481976f1a124c988d7c7eebb7670d28": {
          "model_module": "@jupyter-widgets/base",
          "model_name": "LayoutModel",
          "model_module_version": "1.2.0",
          "state": {
            "_model_module": "@jupyter-widgets/base",
            "_model_module_version": "1.2.0",
            "_model_name": "LayoutModel",
            "_view_count": null,
            "_view_module": "@jupyter-widgets/base",
            "_view_module_version": "1.2.0",
            "_view_name": "LayoutView",
            "align_content": null,
            "align_items": null,
            "align_self": null,
            "border": null,
            "bottom": null,
            "display": null,
            "flex": null,
            "flex_flow": null,
            "grid_area": null,
            "grid_auto_columns": null,
            "grid_auto_flow": null,
            "grid_auto_rows": null,
            "grid_column": null,
            "grid_gap": null,
            "grid_row": null,
            "grid_template_areas": null,
            "grid_template_columns": null,
            "grid_template_rows": null,
            "height": null,
            "justify_content": null,
            "justify_items": null,
            "left": null,
            "margin": null,
            "max_height": null,
            "max_width": null,
            "min_height": null,
            "min_width": null,
            "object_fit": null,
            "object_position": null,
            "order": null,
            "overflow": null,
            "overflow_x": null,
            "overflow_y": null,
            "padding": null,
            "right": null,
            "top": null,
            "visibility": null,
            "width": null
          }
        },
        "0d47e5f98886490ba265889265747e70": {
          "model_module": "@jupyter-widgets/base",
          "model_name": "LayoutModel",
          "model_module_version": "1.2.0",
          "state": {
            "_model_module": "@jupyter-widgets/base",
            "_model_module_version": "1.2.0",
            "_model_name": "LayoutModel",
            "_view_count": null,
            "_view_module": "@jupyter-widgets/base",
            "_view_module_version": "1.2.0",
            "_view_name": "LayoutView",
            "align_content": null,
            "align_items": null,
            "align_self": null,
            "border": null,
            "bottom": null,
            "display": null,
            "flex": null,
            "flex_flow": null,
            "grid_area": null,
            "grid_auto_columns": null,
            "grid_auto_flow": null,
            "grid_auto_rows": null,
            "grid_column": null,
            "grid_gap": null,
            "grid_row": null,
            "grid_template_areas": null,
            "grid_template_columns": null,
            "grid_template_rows": null,
            "height": null,
            "justify_content": null,
            "justify_items": null,
            "left": null,
            "margin": null,
            "max_height": null,
            "max_width": null,
            "min_height": null,
            "min_width": null,
            "object_fit": null,
            "object_position": null,
            "order": null,
            "overflow": null,
            "overflow_x": null,
            "overflow_y": null,
            "padding": null,
            "right": null,
            "top": null,
            "visibility": null,
            "width": null
          }
        },
        "71b6e707c8b047a98a4bed7b15029a1f": {
          "model_module": "@jupyter-widgets/controls",
          "model_name": "DescriptionStyleModel",
          "model_module_version": "1.5.0",
          "state": {
            "_model_module": "@jupyter-widgets/controls",
            "_model_module_version": "1.5.0",
            "_model_name": "DescriptionStyleModel",
            "_view_count": null,
            "_view_module": "@jupyter-widgets/base",
            "_view_module_version": "1.2.0",
            "_view_name": "StyleView",
            "description_width": ""
          }
        },
        "205fb8876eeb419d9e8e58ec0a859a73": {
          "model_module": "@jupyter-widgets/base",
          "model_name": "LayoutModel",
          "model_module_version": "1.2.0",
          "state": {
            "_model_module": "@jupyter-widgets/base",
            "_model_module_version": "1.2.0",
            "_model_name": "LayoutModel",
            "_view_count": null,
            "_view_module": "@jupyter-widgets/base",
            "_view_module_version": "1.2.0",
            "_view_name": "LayoutView",
            "align_content": null,
            "align_items": null,
            "align_self": null,
            "border": null,
            "bottom": null,
            "display": null,
            "flex": null,
            "flex_flow": null,
            "grid_area": null,
            "grid_auto_columns": null,
            "grid_auto_flow": null,
            "grid_auto_rows": null,
            "grid_column": null,
            "grid_gap": null,
            "grid_row": null,
            "grid_template_areas": null,
            "grid_template_columns": null,
            "grid_template_rows": null,
            "height": null,
            "justify_content": null,
            "justify_items": null,
            "left": null,
            "margin": null,
            "max_height": null,
            "max_width": null,
            "min_height": null,
            "min_width": null,
            "object_fit": null,
            "object_position": null,
            "order": null,
            "overflow": null,
            "overflow_x": null,
            "overflow_y": null,
            "padding": null,
            "right": null,
            "top": null,
            "visibility": null,
            "width": null
          }
        },
        "6ac4dc80f18e430788bf77704c3b88a6": {
          "model_module": "@jupyter-widgets/controls",
          "model_name": "ProgressStyleModel",
          "model_module_version": "1.5.0",
          "state": {
            "_model_module": "@jupyter-widgets/controls",
            "_model_module_version": "1.5.0",
            "_model_name": "ProgressStyleModel",
            "_view_count": null,
            "_view_module": "@jupyter-widgets/base",
            "_view_module_version": "1.2.0",
            "_view_name": "StyleView",
            "bar_color": null,
            "description_width": ""
          }
        },
        "3ab579800556476caa36957f8987cb3f": {
          "model_module": "@jupyter-widgets/base",
          "model_name": "LayoutModel",
          "model_module_version": "1.2.0",
          "state": {
            "_model_module": "@jupyter-widgets/base",
            "_model_module_version": "1.2.0",
            "_model_name": "LayoutModel",
            "_view_count": null,
            "_view_module": "@jupyter-widgets/base",
            "_view_module_version": "1.2.0",
            "_view_name": "LayoutView",
            "align_content": null,
            "align_items": null,
            "align_self": null,
            "border": null,
            "bottom": null,
            "display": null,
            "flex": null,
            "flex_flow": null,
            "grid_area": null,
            "grid_auto_columns": null,
            "grid_auto_flow": null,
            "grid_auto_rows": null,
            "grid_column": null,
            "grid_gap": null,
            "grid_row": null,
            "grid_template_areas": null,
            "grid_template_columns": null,
            "grid_template_rows": null,
            "height": null,
            "justify_content": null,
            "justify_items": null,
            "left": null,
            "margin": null,
            "max_height": null,
            "max_width": null,
            "min_height": null,
            "min_width": null,
            "object_fit": null,
            "object_position": null,
            "order": null,
            "overflow": null,
            "overflow_x": null,
            "overflow_y": null,
            "padding": null,
            "right": null,
            "top": null,
            "visibility": null,
            "width": null
          }
        },
        "72913bebc7bf45598815cb0167eb3206": {
          "model_module": "@jupyter-widgets/controls",
          "model_name": "DescriptionStyleModel",
          "model_module_version": "1.5.0",
          "state": {
            "_model_module": "@jupyter-widgets/controls",
            "_model_module_version": "1.5.0",
            "_model_name": "DescriptionStyleModel",
            "_view_count": null,
            "_view_module": "@jupyter-widgets/base",
            "_view_module_version": "1.2.0",
            "_view_name": "StyleView",
            "description_width": ""
          }
        }
      }
    }
  },
  "cells": [
    {
      "cell_type": "markdown",
      "metadata": {
        "id": "view-in-github",
        "colab_type": "text"
      },
      "source": [
        "<a href=\"https://colab.research.google.com/github/artoowang/ray_tracer_colab/blob/main/Ray_Tracer.ipynb\" target=\"_parent\"><img src=\"https://colab.research.google.com/assets/colab-badge.svg\" alt=\"Open In Colab\"/></a>"
      ]
    },
    {
      "cell_type": "markdown",
      "metadata": {
        "id": "EoTba3tGcq-D"
      },
      "source": [
        "# Ray Tracer in Colab\n",
        "\n",
        "This is a Colab setup to build and run a C++ ray tracer implementation forked from https://raytracing.github.io/. A thin Python/Cython layer is created to run the C++ code, and display the rendered image in the notebook. This allows both the high performance from C++ code and the flexibility of Python/Colab, but at the cost of requiring some Cython code to interface between them.\n",
        "\n",
        "## Cython module build setup\n",
        "\n",
        "The Cython module is created and linked with the C++ code. A setup script `ray_tracer_wrapper_setup.py` is used to build the `ray_tracer_wrapper` module. However, since Python runtime caches a loaded module, I use my [`cython_colab`](https://github.com/artoowang/cython_colab) module to manually build and load the Cython module.\n",
        "\n",
        "## Directory structure\n",
        "\n",
        "The C++ sources are stored in the [`ray_tracer_colab`](https://github.com/artoowang/ray_tracer_colab) repo, and it will be checked out to the working directory of the Colab runtime in the initialization cell below.\n",
        "\n",
        "When running the Colab runtime locally, it is also possible to manually check out the `ray_tracer_colab` repo under exactly that name. If such directory exists, initialization will use that directory and skip the checking out. This allows changing the C++ code locally (e.g., in a terminal) and rebuild the Cython module in this notebook to pick up the changes, which is useful for development."
      ]
    },
    {
      "cell_type": "markdown",
      "metadata": {
        "id": "K6N_fvY8WFo_"
      },
      "source": [
        "## Initialization"
      ]
    },
    {
      "cell_type": "code",
      "metadata": {
        "id": "Qbj0j2MFHJWJ"
      },
      "source": [
        "import imageio\n",
        "import numpy as np\n",
        "import matplotlib.pyplot as plt\n",
        "import os\n",
        "from PIL import Image\n",
        "\n",
        "%reload_ext Cython\n",
        "\n",
        "imageio.plugins.freeimage.download()"
      ],
      "execution_count": 2,
      "outputs": []
    },
    {
      "cell_type": "code",
      "metadata": {
        "colab": {
          "base_uri": "https://localhost:8080/"
        },
        "id": "zeWQxAnTiWWv",
        "outputId": "f2f1dc33-93e6-4520-ee52-4ad6e028370c"
      },
      "source": [
        "if os.path.exists('ray_tracer_colab'):\n",
        "  print('Use local ray_tracer_colab repo.')\n",
        "else:\n",
        "  print('Checking out ray_tracer_colab repo ...')\n",
        "  !git clone https://github.com/artoowang/ray_tracer_colab.git"
      ],
      "execution_count": 3,
      "outputs": [
        {
          "output_type": "stream",
          "name": "stdout",
          "text": [
            "Use local ray_tracer_colab repo.\n"
          ]
        }
      ]
    },
    {
      "cell_type": "markdown",
      "metadata": {
        "id": "Jf0sLMjJkRQc"
      },
      "source": [
        "## Run"
      ]
    },
    {
      "cell_type": "markdown",
      "metadata": {
        "id": "6ddUp8cAfAkk"
      },
      "source": [
        "### ray_tracer_main.h"
      ]
    },
    {
      "cell_type": "code",
      "metadata": {
        "colab": {
          "base_uri": "https://localhost:8080/"
        },
        "id": "BP-HjeOrYWyL",
        "outputId": "8f20accd-0313-4b02-f751-d5eb20f01fac"
      },
      "source": [
        "%%file ray_tracer_main.h\n",
        "\n",
        "#ifndef RAY_TRACER_MAIN_H\n",
        "#define RAY_TRACER_MAIN_H\n",
        "\n",
        "#include \"camera.h\"\n",
        "#include \"hittable_list.h\"\n",
        "#include \"scene.h\"\n",
        "\n",
        "Scene CreateScene(int image_width, int image_height);\n",
        "\n",
        "#endif  // RAY_TRACER_MAIN_H"
      ],
      "execution_count": 3,
      "outputs": [
        {
          "output_type": "stream",
          "name": "stdout",
          "text": [
            "Overwriting ray_tracer_main.h\n"
          ]
        }
      ]
    },
    {
      "cell_type": "markdown",
      "metadata": {
        "id": "AsJUYEaFfEiW"
      },
      "source": [
        "### ray_tracer_main.cc"
      ]
    },
    {
      "cell_type": "code",
      "metadata": {
        "colab": {
          "base_uri": "https://localhost:8080/"
        },
        "id": "r7ZsyH2zaIff",
        "outputId": "13109f30-a5bc-4dc8-bbb7-342a3b89cc8a"
      },
      "source": [
        "%%file ray_tracer_main.cc\n",
        "\n",
        "#include \"ray_tracer_main.h\"\n",
        "\n",
        "#include <fstream>\n",
        "#include <iostream>\n",
        "#include <utility>\n",
        "\n",
        "#include \"rtweekend.h\"\n",
        "#include \"color.h\"\n",
        "#include \"material.h\"\n",
        "#include \"sphere.h\"\n",
        "\n",
        "hittable_list CreateRandomWorld() {\n",
        "    hittable_list world;\n",
        "\n",
        "    auto ground_material = make_shared<lambertian>(color(0.5, 0.5, 0.5));\n",
        "    world.add(make_shared<sphere>(point3(0,-1000,0), 1000, ground_material));\n",
        "\n",
        "    for (int a = -11; a < 11; a++) {\n",
        "        for (int b = -11; b < 11; b++) {\n",
        "            auto choose_mat = random_double();\n",
        "            point3 center(a + 0.9*random_double(), 0.2, b + 0.9*random_double());\n",
        "\n",
        "            if ((center - point3(4, 0.2, 0)).length() > 0.9) {\n",
        "                shared_ptr<material> sphere_material;\n",
        "\n",
        "                if (choose_mat < 0.8) {\n",
        "                    // diffuse\n",
        "                    auto albedo = color::random() * color::random();\n",
        "                    sphere_material = make_shared<lambertian>(albedo);\n",
        "                    world.add(make_shared<sphere>(center, 0.2, sphere_material));\n",
        "                } else if (choose_mat < 0.95) {\n",
        "                    // metal\n",
        "                    auto albedo = color::random(0.5, 1);\n",
        "                    auto fuzz = random_double(0, 0.5);\n",
        "                    sphere_material = make_shared<metal>(albedo, fuzz);\n",
        "                    world.add(make_shared<sphere>(center, 0.2, sphere_material));\n",
        "                } else {\n",
        "                    // glass\n",
        "                    sphere_material = make_shared<dielectric>(1.5);\n",
        "                    world.add(make_shared<sphere>(center, 0.2, sphere_material));\n",
        "                }\n",
        "            }\n",
        "        }\n",
        "    }\n",
        "\n",
        "    auto material1 = make_shared<dielectric>(1.5);\n",
        "    world.add(make_shared<sphere>(point3(0, 1, 0), 1.0, material1));\n",
        "\n",
        "    auto material2 = make_shared<lambertian>(color(0.4, 0.2, 0.1));\n",
        "    world.add(make_shared<sphere>(point3(-4, 1, 0), 1.0, material2));\n",
        "\n",
        "    auto material3 = make_shared<metal>(color(0.7, 0.6, 0.5), 0.0);\n",
        "    world.add(make_shared<sphere>(point3(4, 1, 0), 1.0, material3));\n",
        "\n",
        "    return world;\n",
        "}\n",
        "\n",
        "Scene CreateScene(int image_width, int image_height) {\n",
        "  point3 lookfrom(13,2,3);\n",
        "  point3 lookat(0,0,0);\n",
        "  vec3 vup(0,1,0);\n",
        "  auto dist_to_focus = 10.0;\n",
        "  auto aperture = 0.1;\n",
        "  const double aspect_ratio = static_cast<double>(image_width) / image_height;\n",
        "  Camera camera(lookfrom, lookat, vup, 20, aspect_ratio, aperture, dist_to_focus);\n",
        "  return Scene(image_width, image_height,\n",
        "               /*samples_per_pixel=*/10,\n",
        "               /*max_depth=*/50, CreateRandomWorld(), std::move(camera));\n",
        "}"
      ],
      "execution_count": 4,
      "outputs": [
        {
          "output_type": "stream",
          "name": "stdout",
          "text": [
            "Overwriting ray_tracer_main.cc\n"
          ]
        }
      ]
    },
    {
      "cell_type": "markdown",
      "metadata": {
        "id": "DOIBgQPwU7-f"
      },
      "source": [
        "### ray_tracer_main.pxd"
      ]
    },
    {
      "cell_type": "code",
      "metadata": {
        "colab": {
          "base_uri": "https://localhost:8080/"
        },
        "id": "qoElZg3PsjBN",
        "outputId": "5c738b4f-74f5-4b9a-9a25-c4a1dc54126b"
      },
      "source": [
        "%%file ray_tracer_main.pxd\n",
        "\n",
        "from ray_tracer_colab.pxd.scene cimport Scene\n",
        "\n",
        "cdef extern from 'ray_tracer_main.h':\n",
        "  Scene CreateScene(int image_width, int image_height)"
      ],
      "execution_count": 5,
      "outputs": [
        {
          "output_type": "stream",
          "name": "stdout",
          "text": [
            "Overwriting ray_tracer_main.pxd\n"
          ]
        }
      ]
    },
    {
      "cell_type": "markdown",
      "metadata": {
        "id": "PLH80_3e6VI1"
      },
      "source": [
        "### Run"
      ]
    },
    {
      "cell_type": "code",
      "metadata": {
        "colab": {
          "base_uri": "https://localhost:8080/",
          "height": 229,
          "referenced_widgets": [
            "74dfea4f25cc4f1abd22ecc2c8931386",
            "7acdf8bdc16d4644862e9da8b2dc9456",
            "cb7a47e391ea4fb9a0a4c62c552a7fc1",
            "169e40623c8d47c784cac388f2476344",
            "1481976f1a124c988d7c7eebb7670d28",
            "0d47e5f98886490ba265889265747e70",
            "71b6e707c8b047a98a4bed7b15029a1f",
            "205fb8876eeb419d9e8e58ec0a859a73",
            "6ac4dc80f18e430788bf77704c3b88a6",
            "3ab579800556476caa36957f8987cb3f",
            "72913bebc7bf45598815cb0167eb3206"
          ]
        },
        "id": "EnG72WLRdhTg",
        "outputId": "fd0680bc-2559-4516-eae7-0ecba6098c91"
      },
      "source": [
        "%%cython -3 -I. -Iray_tracer_colab/include -f -c=-std=c++17 --cplus -S ray_tracer_colab/src/scene.cc -S ray_tracer_main.cc -c=-Wno-unreachable-code -c=-Wp,-fopenmp --link-args=-lomp --link-args=-Wp,-fopenmp\n",
        "\n",
        "import cython\n",
        "import numpy as np\n",
        "import time\n",
        "\n",
        "from IPython import display\n",
        "from PIL import Image\n",
        "from cython.parallel import prange, threadid\n",
        "from tqdm.notebook import tqdm\n",
        "\n",
        "from ray_tracer_colab.utils.preview_display import PreviewDisplay\n",
        "\n",
        "from libc.stdint cimport uint8_t\n",
        "\n",
        "from ray_tracer_colab.pxd.scene cimport Scene\n",
        "from ray_tracer_main cimport CreateScene\n",
        "\n",
        "\n",
        "def run_parallel(Py_ssize_t image_width, Py_ssize_t image_height):\n",
        "  # Create the bytearray to hold the ray tracer output.\n",
        "  cdef bytearray buffer = bytearray(image_width * image_height * 3)\n",
        "  # We need to explicitly declare a uint8_t pointer because we cannot access\n",
        "  # bytearray within prange().\n",
        "  cdef uint8_t* ptr = buffer\n",
        "  cdef uint8_t* line\n",
        "\n",
        "  cdef Py_ssize_t y\n",
        "  cdef Scene scene = CreateScene(image_width, image_height)\n",
        "\n",
        "  progress_bar = tqdm(total=image_height)\n",
        "  preview = PreviewDisplay(every_n_sec=10.0, image_width=image_width,\n",
        "                           image_height=image_height)\n",
        "\n",
        "  # 'dynamic' schedule allows each thread to pick one line at a time, and thus\n",
        "  # makes sure all threads will be busy for the entire image.\n",
        "  for y in prange(image_height, nogil=True, schedule='dynamic'):\n",
        "    with gil:\n",
        "      progress_bar.update(1)\n",
        "      preview.maybe_update(buffer)\n",
        "    # The row 0 in a PIL Image buffer is at the top, while in our image space\n",
        "    # y = 0 is the bottom row, so we flip it here to find the pointer to the\n",
        "    # correct output line.\n",
        "    line = ptr + (image_height - y - 1) * image_width * 3\n",
        "    scene.RenderLine(y, line)\n",
        "\n",
        "  # Final update to progress bar and preview image.\n",
        "  progress_bar.close()\n",
        "  preview.update(buffer)\n",
        "  return preview.get_image()\n",
        "\n",
        "#run_parallel(1200, 645)\n",
        "run_parallel(240, 180)"
      ],
      "execution_count": 4,
      "outputs": [
        {
          "output_type": "display_data",
          "data": {
            "text/plain": [
              "  0%|          | 0/180 [00:00<?, ?it/s]"
            ],
            "application/vnd.jupyter.widget-view+json": {
              "version_major": 2,
              "version_minor": 0,
              "model_id": "74dfea4f25cc4f1abd22ecc2c8931386"
            }
          },
          "metadata": {}
        },
        {
          "output_type": "display_data",
          "data": {
            "text/plain": [
              "<PIL.Image.Image image mode=RGB size=240x180 at 0x11F3CED90>"
            ],
            "image/png": "[encoded data removed]"
          },
          "metadata": {}
        }
      ]
    },
    {
      "cell_type": "markdown",
      "metadata": {
        "id": "MHTeHSQLMShX"
      },
      "source": [
        "## Reload local modules\n",
        "\n",
        "This is needed to reload the modified Python modules from the local directory."
      ]
    },
    {
      "cell_type": "code",
      "metadata": {
        "id": "3KXeuTX1VvoJ",
        "colab": {
          "base_uri": "https://localhost:8080/"
        },
        "outputId": "401b6ec5-3c4e-47af-c3c2-3ce7c2de25aa"
      },
      "source": [
        "from importlib import reload\n",
        "import utils.preview_display\n",
        "reload(utils.preview_display)"
      ],
      "execution_count": null,
      "outputs": [
        {
          "output_type": "execute_result",
          "data": {
            "text/plain": [
              "<module 'utils.preview_display' from '/Users/cpwang/Programs/ray-tracer-colab/utils/preview_display.py'>"
            ]
          },
          "metadata": {},
          "execution_count": 38
        }
      ]
    },
    {
      "cell_type": "code",
      "metadata": {
        "id": "oX-PXyIpMjqP"
      },
      "source": [
        ""
      ],
      "execution_count": null,
      "outputs": []
    }
  ]
}