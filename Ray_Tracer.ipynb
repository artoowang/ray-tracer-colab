{
  "nbformat": 4,
  "nbformat_minor": 0,
  "metadata": {
    "colab": {
      "name": "Ray Tracer",
      "provenance": [],
      "collapsed_sections": [],
      "toc_visible": true,
      "authorship_tag": "ABX9TyPqqk4V+Im/0LznMHyEzlVp",
      "include_colab_link": true
    },
    "kernelspec": {
      "name": "python3",
      "display_name": "Python 3"
    },
    "language_info": {
      "name": "python"
    },
    "widgets": {
      "application/vnd.jupyter.widget-state+json": {
        "704d3e29c9ff4860a8119ee1a4776cc2": {
          "model_module": "@jupyter-widgets/controls",
          "model_name": "HBoxModel",
          "model_module_version": "1.5.0",
          "state": {
            "_view_name": "HBoxView",
            "_dom_classes": [],
            "_model_name": "HBoxModel",
            "_view_module": "@jupyter-widgets/controls",
            "_model_module_version": "1.5.0",
            "_view_count": null,
            "_view_module_version": "1.5.0",
            "box_style": "",
            "layout": "IPY_MODEL_92ccee922d874249b9ba8a0c4d666383",
            "_model_module": "@jupyter-widgets/controls",
            "children": [
              "IPY_MODEL_74a50066e0334c0699941db7e3830866",
              "IPY_MODEL_2a99189e7397455d8c76fd4f8a47c4bb",
              "IPY_MODEL_3cbc408552c84713ae168648f0a7dadf"
            ]
          }
        },
        "92ccee922d874249b9ba8a0c4d666383": {
          "model_module": "@jupyter-widgets/base",
          "model_name": "LayoutModel",
          "model_module_version": "1.2.0",
          "state": {
            "_view_name": "LayoutView",
            "grid_template_rows": null,
            "right": null,
            "justify_content": null,
            "_view_module": "@jupyter-widgets/base",
            "overflow": null,
            "_model_module_version": "1.2.0",
            "_view_count": null,
            "flex_flow": null,
            "width": null,
            "min_width": null,
            "border": null,
            "align_items": null,
            "bottom": null,
            "_model_module": "@jupyter-widgets/base",
            "top": null,
            "grid_column": null,
            "overflow_y": null,
            "overflow_x": null,
            "grid_auto_flow": null,
            "grid_area": null,
            "grid_template_columns": null,
            "flex": null,
            "_model_name": "LayoutModel",
            "justify_items": null,
            "grid_row": null,
            "max_height": null,
            "align_content": null,
            "visibility": null,
            "align_self": null,
            "height": null,
            "min_height": null,
            "padding": null,
            "grid_auto_rows": null,
            "grid_gap": null,
            "max_width": null,
            "order": null,
            "_view_module_version": "1.2.0",
            "grid_template_areas": null,
            "object_position": null,
            "object_fit": null,
            "grid_auto_columns": null,
            "margin": null,
            "display": null,
            "left": null
          }
        },
        "74a50066e0334c0699941db7e3830866": {
          "model_module": "@jupyter-widgets/controls",
          "model_name": "HTMLModel",
          "model_module_version": "1.5.0",
          "state": {
            "_view_name": "HTMLView",
            "style": "IPY_MODEL_5e74bd0df3224265be128f6d42522dd0",
            "_dom_classes": [],
            "description": "",
            "_model_name": "HTMLModel",
            "placeholder": "​",
            "_view_module": "@jupyter-widgets/controls",
            "_model_module_version": "1.5.0",
            "value": "100%",
            "_view_count": null,
            "_view_module_version": "1.5.0",
            "description_tooltip": null,
            "_model_module": "@jupyter-widgets/controls",
            "layout": "IPY_MODEL_f0203944b18349be86dd299c52f70aa7"
          }
        },
        "2a99189e7397455d8c76fd4f8a47c4bb": {
          "model_module": "@jupyter-widgets/controls",
          "model_name": "FloatProgressModel",
          "model_module_version": "1.5.0",
          "state": {
            "_view_name": "ProgressView",
            "style": "IPY_MODEL_3227f46d057e42edbee545f4e251b4e6",
            "_dom_classes": [],
            "description": "",
            "_model_name": "FloatProgressModel",
            "bar_style": "success",
            "max": 180,
            "_view_module": "@jupyter-widgets/controls",
            "_model_module_version": "1.5.0",
            "value": 180,
            "_view_count": null,
            "_view_module_version": "1.5.0",
            "orientation": "horizontal",
            "min": 0,
            "description_tooltip": null,
            "_model_module": "@jupyter-widgets/controls",
            "layout": "IPY_MODEL_134485b4a47143b19c3fd7291f00b161"
          }
        },
        "3cbc408552c84713ae168648f0a7dadf": {
          "model_module": "@jupyter-widgets/controls",
          "model_name": "HTMLModel",
          "model_module_version": "1.5.0",
          "state": {
            "_view_name": "HTMLView",
            "style": "IPY_MODEL_c1f0d990139444388a8e5489f4970c00",
            "_dom_classes": [],
            "description": "",
            "_model_name": "HTMLModel",
            "placeholder": "​",
            "_view_module": "@jupyter-widgets/controls",
            "_model_module_version": "1.5.0",
            "value": " 180/180 [00:05&lt;00:00, 70.38it/s]",
            "_view_count": null,
            "_view_module_version": "1.5.0",
            "description_tooltip": null,
            "_model_module": "@jupyter-widgets/controls",
            "layout": "IPY_MODEL_93f844627d9e476cbe1cb3ceb3879f53"
          }
        },
        "5e74bd0df3224265be128f6d42522dd0": {
          "model_module": "@jupyter-widgets/controls",
          "model_name": "DescriptionStyleModel",
          "model_module_version": "1.5.0",
          "state": {
            "_view_name": "StyleView",
            "_model_name": "DescriptionStyleModel",
            "description_width": "",
            "_view_module": "@jupyter-widgets/base",
            "_model_module_version": "1.5.0",
            "_view_count": null,
            "_view_module_version": "1.2.0",
            "_model_module": "@jupyter-widgets/controls"
          }
        },
        "f0203944b18349be86dd299c52f70aa7": {
          "model_module": "@jupyter-widgets/base",
          "model_name": "LayoutModel",
          "model_module_version": "1.2.0",
          "state": {
            "_view_name": "LayoutView",
            "grid_template_rows": null,
            "right": null,
            "justify_content": null,
            "_view_module": "@jupyter-widgets/base",
            "overflow": null,
            "_model_module_version": "1.2.0",
            "_view_count": null,
            "flex_flow": null,
            "width": null,
            "min_width": null,
            "border": null,
            "align_items": null,
            "bottom": null,
            "_model_module": "@jupyter-widgets/base",
            "top": null,
            "grid_column": null,
            "overflow_y": null,
            "overflow_x": null,
            "grid_auto_flow": null,
            "grid_area": null,
            "grid_template_columns": null,
            "flex": null,
            "_model_name": "LayoutModel",
            "justify_items": null,
            "grid_row": null,
            "max_height": null,
            "align_content": null,
            "visibility": null,
            "align_self": null,
            "height": null,
            "min_height": null,
            "padding": null,
            "grid_auto_rows": null,
            "grid_gap": null,
            "max_width": null,
            "order": null,
            "_view_module_version": "1.2.0",
            "grid_template_areas": null,
            "object_position": null,
            "object_fit": null,
            "grid_auto_columns": null,
            "margin": null,
            "display": null,
            "left": null
          }
        },
        "3227f46d057e42edbee545f4e251b4e6": {
          "model_module": "@jupyter-widgets/controls",
          "model_name": "ProgressStyleModel",
          "model_module_version": "1.5.0",
          "state": {
            "_view_name": "StyleView",
            "_model_name": "ProgressStyleModel",
            "description_width": "",
            "_view_module": "@jupyter-widgets/base",
            "_model_module_version": "1.5.0",
            "_view_count": null,
            "_view_module_version": "1.2.0",
            "bar_color": null,
            "_model_module": "@jupyter-widgets/controls"
          }
        },
        "134485b4a47143b19c3fd7291f00b161": {
          "model_module": "@jupyter-widgets/base",
          "model_name": "LayoutModel",
          "model_module_version": "1.2.0",
          "state": {
            "_view_name": "LayoutView",
            "grid_template_rows": null,
            "right": null,
            "justify_content": null,
            "_view_module": "@jupyter-widgets/base",
            "overflow": null,
            "_model_module_version": "1.2.0",
            "_view_count": null,
            "flex_flow": null,
            "width": null,
            "min_width": null,
            "border": null,
            "align_items": null,
            "bottom": null,
            "_model_module": "@jupyter-widgets/base",
            "top": null,
            "grid_column": null,
            "overflow_y": null,
            "overflow_x": null,
            "grid_auto_flow": null,
            "grid_area": null,
            "grid_template_columns": null,
            "flex": null,
            "_model_name": "LayoutModel",
            "justify_items": null,
            "grid_row": null,
            "max_height": null,
            "align_content": null,
            "visibility": null,
            "align_self": null,
            "height": null,
            "min_height": null,
            "padding": null,
            "grid_auto_rows": null,
            "grid_gap": null,
            "max_width": null,
            "order": null,
            "_view_module_version": "1.2.0",
            "grid_template_areas": null,
            "object_position": null,
            "object_fit": null,
            "grid_auto_columns": null,
            "margin": null,
            "display": null,
            "left": null
          }
        },
        "c1f0d990139444388a8e5489f4970c00": {
          "model_module": "@jupyter-widgets/controls",
          "model_name": "DescriptionStyleModel",
          "model_module_version": "1.5.0",
          "state": {
            "_view_name": "StyleView",
            "_model_name": "DescriptionStyleModel",
            "description_width": "",
            "_view_module": "@jupyter-widgets/base",
            "_model_module_version": "1.5.0",
            "_view_count": null,
            "_view_module_version": "1.2.0",
            "_model_module": "@jupyter-widgets/controls"
          }
        },
        "93f844627d9e476cbe1cb3ceb3879f53": {
          "model_module": "@jupyter-widgets/base",
          "model_name": "LayoutModel",
          "model_module_version": "1.2.0",
          "state": {
            "_view_name": "LayoutView",
            "grid_template_rows": null,
            "right": null,
            "justify_content": null,
            "_view_module": "@jupyter-widgets/base",
            "overflow": null,
            "_model_module_version": "1.2.0",
            "_view_count": null,
            "flex_flow": null,
            "width": null,
            "min_width": null,
            "border": null,
            "align_items": null,
            "bottom": null,
            "_model_module": "@jupyter-widgets/base",
            "top": null,
            "grid_column": null,
            "overflow_y": null,
            "overflow_x": null,
            "grid_auto_flow": null,
            "grid_area": null,
            "grid_template_columns": null,
            "flex": null,
            "_model_name": "LayoutModel",
            "justify_items": null,
            "grid_row": null,
            "max_height": null,
            "align_content": null,
            "visibility": null,
            "align_self": null,
            "height": null,
            "min_height": null,
            "padding": null,
            "grid_auto_rows": null,
            "grid_gap": null,
            "max_width": null,
            "order": null,
            "_view_module_version": "1.2.0",
            "grid_template_areas": null,
            "object_position": null,
            "object_fit": null,
            "grid_auto_columns": null,
            "margin": null,
            "display": null,
            "left": null
          }
        }
      }
    }
  },
  "cells": [
    {
      "cell_type": "markdown",
      "metadata": {
        "id": "view-in-github",
        "colab_type": "text"
      },
      "source": [
        "<a href=\"https://colab.research.google.com/github/artoowang/ray_tracer_colab/blob/main/Ray_Tracer.ipynb\" target=\"_parent\"><img src=\"https://colab.research.google.com/assets/colab-badge.svg\" alt=\"Open In Colab\"/></a>"
      ]
    },
    {
      "cell_type": "markdown",
      "metadata": {
        "id": "K6N_fvY8WFo_"
      },
      "source": [
        "## Initialization"
      ]
    },
    {
      "cell_type": "code",
      "metadata": {
        "id": "Qbj0j2MFHJWJ"
      },
      "source": [
        "import imageio\n",
        "import numpy as np\n",
        "import matplotlib.pyplot as plt\n",
        "import os\n",
        "from PIL import Image"
      ],
      "execution_count": 1,
      "outputs": []
    },
    {
      "cell_type": "code",
      "metadata": {
        "colab": {
          "base_uri": "https://localhost:8080/"
        },
        "id": "EINmRe4Xibk2",
        "outputId": "6385310b-04d5-4e4d-8991-2053ca7798e7"
      },
      "source": [
        "# Initializations that require downloading.\n",
        "imageio.plugins.freeimage.download()\n",
        "%pip install git+https://github.com/artoowang/cython_colab.git\n",
        "import cython_colab"
      ],
      "execution_count": 2,
      "outputs": [
        {
          "output_type": "stream",
          "name": "stdout",
          "text": [
            "Imageio: 'libfreeimage-3.16.0-linux64.so' was not found on your computer; downloading it now.\n",
            "Try 1. Download from https://github.com/imageio/imageio-binaries/raw/master/freeimage/libfreeimage-3.16.0-linux64.so (4.6 MB)\n",
            "Downloading: 8192/4830080 bytes (0.2%)\b\b\b\b\b\b\b\b\b\b\b\b\b\b\b\b\b\b\b\b\b\b\b\b\b1769472/4830080 bytes (36.6%)\b\b\b\b\b\b\b\b\b\b\b\b\b\b\b\b\b\b\b\b\b\b\b\b\b\b\b\b\b4694016/4830080 bytes (97.2%)\b\b\b\b\b\b\b\b\b\b\b\b\b\b\b\b\b\b\b\b\b\b\b\b\b\b\b\b\b4830080/4830080 bytes (100.0%)\n",
            "  Done\n",
            "File saved as /root/.imageio/freeimage/libfreeimage-3.16.0-linux64.so.\n",
            "Collecting git+https://github.com/artoowang/cython_colab.git\n",
            "  Cloning https://github.com/artoowang/cython_colab.git to /tmp/pip-req-build-r1rqxvi5\n",
            "  Running command git clone -q https://github.com/artoowang/cython_colab.git /tmp/pip-req-build-r1rqxvi5\n",
            "Building wheels for collected packages: cython-colab\n",
            "  Building wheel for cython-colab (setup.py) ... \u001b[?25l\u001b[?25hdone\n",
            "  Created wheel for cython-colab: filename=cython_colab-0.1-py3-none-any.whl size=15329 sha256=37d25ebb8e5cf78ab7cf9582f21d016261988efcb01b2c4e1f31c761c7878715\n",
            "  Stored in directory: /tmp/pip-ephem-wheel-cache-s7the71d/wheels/b8/34/21/093444b60cd46f3574266da48cf6757ff776a72fddc548f846\n",
            "Successfully built cython-colab\n",
            "Installing collected packages: cython-colab\n",
            "Successfully installed cython-colab-0.1\n"
          ]
        }
      ]
    },
    {
      "cell_type": "code",
      "metadata": {
        "colab": {
          "base_uri": "https://localhost:8080/"
        },
        "id": "zeWQxAnTiWWv",
        "outputId": "d595d3bd-903a-4e16-9ce2-4ee5ebbe0d02"
      },
      "source": [
        "if os.path.exists('ray_tracer_colab'):\n",
        "  print('Use local ray_tracer_colab repo.')\n",
        "else:\n",
        "  print('Checking out ray_tracer_colab repo ...')\n",
        "  !git clone https://github.com/artoowang/ray_tracer_colab.git"
      ],
      "execution_count": 3,
      "outputs": [
        {
          "output_type": "stream",
          "name": "stdout",
          "text": [
            "Checking out ray_tracer_colab repo ...\n",
            "Cloning into 'ray_tracer_colab'...\n",
            "remote: Enumerating objects: 62, done.\u001b[K\n",
            "remote: Counting objects: 100% (62/62), done.\u001b[K\n",
            "remote: Compressing objects: 100% (38/38), done.\u001b[K\n",
            "remote: Total 62 (delta 26), reused 50 (delta 19), pack-reused 0\u001b[K\n",
            "Unpacking objects: 100% (62/62), done.\n"
          ]
        }
      ]
    },
    {
      "cell_type": "markdown",
      "metadata": {
        "id": "Jf0sLMjJkRQc"
      },
      "source": [
        "## Run"
      ]
    },
    {
      "cell_type": "markdown",
      "metadata": {
        "id": "ofuAOqYci9IE"
      },
      "source": [
        "### ray_tracer_wrapper_setup.py"
      ]
    },
    {
      "cell_type": "code",
      "metadata": {
        "colab": {
          "base_uri": "https://localhost:8080/"
        },
        "id": "U3-PV-nmZay7",
        "outputId": "7e98d745-ecac-4074-f33f-a98c57b9dd8e"
      },
      "source": [
        "%%file ray_tracer_wrapper_setup.py\n",
        "\n",
        "from distutils.core import setup  \n",
        "from distutils.extension import Extension  \n",
        "from Cython.Build import cythonize\n",
        "import sys\n",
        "\n",
        "# It is important to make sure the extension name, .pyx file, and this setup\n",
        "# file names are all consistent with each other. E.g., to build a module called\n",
        "# 'example_mod', the extension name should be 'example_mod', .pyx file should be\n",
        "# example_mod.pyx, and the setup file should be example_mod_setup.py. These are\n",
        "# used in various places in the module reload utility methods.\n",
        "module_name = 'ray_tracer_wrapper'\n",
        "\n",
        "if sys.platform == 'darwin':\n",
        "  sys_dep_compile_args = [\n",
        "      '-Wno-unreachable-code',\n",
        "      '-Wp,-fopenmp',\n",
        "  ]\n",
        "  sys_dep_link_args = [\n",
        "      '-Wp,-fopenmp',\n",
        "      '-lomp',\n",
        "  ]\n",
        "else:\n",
        "  sys_dep_compile_args = ['-fopenmp']\n",
        "  sys_dep_link_args = ['-fopenmp']\n",
        "\n",
        "extensions = [\n",
        "  Extension(module_name,\n",
        "            [f'{module_name}.pyx', 'ray_tracer_main.cc',\n",
        "             'ray_tracer_colab/src/scene.cc'],\n",
        "            language='c++',\n",
        "            extra_compile_args=[\n",
        "                '-std=c++17',\n",
        "                '-Iray_tracer_colab/include',\n",
        "            ] + sys_dep_compile_args,\n",
        "            extra_link_args=sys_dep_link_args,\n",
        "           ),\n",
        "]\n",
        "\n",
        "setup(ext_modules = cythonize(extensions, language_level='3'))"
      ],
      "execution_count": 6,
      "outputs": [
        {
          "output_type": "stream",
          "name": "stdout",
          "text": [
            "Writing ray_tracer_wrapper_setup.py\n"
          ]
        }
      ]
    },
    {
      "cell_type": "markdown",
      "metadata": {
        "id": "6ddUp8cAfAkk"
      },
      "source": [
        "### ray_tracer_main.h"
      ]
    },
    {
      "cell_type": "code",
      "metadata": {
        "colab": {
          "base_uri": "https://localhost:8080/"
        },
        "id": "BP-HjeOrYWyL",
        "outputId": "753698dd-8302-4711-db6a-c5bc12849a7b"
      },
      "source": [
        "%%file ray_tracer_main.h\n",
        "\n",
        "#ifndef RAY_TRACER_MAIN_H\n",
        "#define RAY_TRACER_MAIN_H\n",
        "\n",
        "#include \"camera.h\"\n",
        "#include \"hittable_list.h\"\n",
        "#include \"scene.h\"\n",
        "\n",
        "Scene CreateScene(int image_width, int image_height);\n",
        "\n",
        "#endif  // RAY_TRACER_MAIN_H"
      ],
      "execution_count": 7,
      "outputs": [
        {
          "output_type": "stream",
          "name": "stdout",
          "text": [
            "Writing ray_tracer_main.h\n"
          ]
        }
      ]
    },
    {
      "cell_type": "markdown",
      "metadata": {
        "id": "AsJUYEaFfEiW"
      },
      "source": [
        "### ray_tracer_main.cc"
      ]
    },
    {
      "cell_type": "code",
      "metadata": {
        "colab": {
          "base_uri": "https://localhost:8080/"
        },
        "id": "r7ZsyH2zaIff",
        "outputId": "e61337e7-3921-4a9e-bb38-17f8f500edc9"
      },
      "source": [
        "%%file ray_tracer_main.cc\n",
        "\n",
        "#include \"ray_tracer_main.h\"\n",
        "\n",
        "#include <fstream>\n",
        "#include <iostream>\n",
        "#include <utility>\n",
        "\n",
        "#include \"rtweekend.h\"\n",
        "#include \"color.h\"\n",
        "#include \"material.h\"\n",
        "#include \"sphere.h\"\n",
        "\n",
        "hittable_list CreateRandomWorld() {\n",
        "    hittable_list world;\n",
        "\n",
        "    auto ground_material = make_shared<lambertian>(color(0.5, 0.5, 0.5));\n",
        "    world.add(make_shared<sphere>(point3(0,-1000,0), 1000, ground_material));\n",
        "\n",
        "    for (int a = -11; a < 11; a++) {\n",
        "        for (int b = -11; b < 11; b++) {\n",
        "            auto choose_mat = random_double();\n",
        "            point3 center(a + 0.9*random_double(), 0.2, b + 0.9*random_double());\n",
        "\n",
        "            if ((center - point3(4, 0.2, 0)).length() > 0.9) {\n",
        "                shared_ptr<material> sphere_material;\n",
        "\n",
        "                if (choose_mat < 0.8) {\n",
        "                    // diffuse\n",
        "                    auto albedo = color::random() * color::random();\n",
        "                    sphere_material = make_shared<lambertian>(albedo);\n",
        "                    world.add(make_shared<sphere>(center, 0.2, sphere_material));\n",
        "                } else if (choose_mat < 0.95) {\n",
        "                    // metal\n",
        "                    auto albedo = color::random(0.5, 1);\n",
        "                    auto fuzz = random_double(0, 0.5);\n",
        "                    sphere_material = make_shared<metal>(albedo, fuzz);\n",
        "                    world.add(make_shared<sphere>(center, 0.2, sphere_material));\n",
        "                } else {\n",
        "                    // glass\n",
        "                    sphere_material = make_shared<dielectric>(1.5);\n",
        "                    world.add(make_shared<sphere>(center, 0.2, sphere_material));\n",
        "                }\n",
        "            }\n",
        "        }\n",
        "    }\n",
        "\n",
        "    auto material1 = make_shared<dielectric>(1.5);\n",
        "    world.add(make_shared<sphere>(point3(0, 1, 0), 1.0, material1));\n",
        "\n",
        "    auto material2 = make_shared<lambertian>(color(0.4, 0.2, 0.1));\n",
        "    world.add(make_shared<sphere>(point3(-4, 1, 0), 1.0, material2));\n",
        "\n",
        "    auto material3 = make_shared<metal>(color(0.7, 0.6, 0.5), 0.0);\n",
        "    world.add(make_shared<sphere>(point3(4, 1, 0), 1.0, material3));\n",
        "\n",
        "    return world;\n",
        "}\n",
        "\n",
        "Scene CreateScene(int image_width, int image_height) {\n",
        "  point3 lookfrom(13,2,3);\n",
        "  point3 lookat(0,0,0);\n",
        "  vec3 vup(0,1,0);\n",
        "  auto dist_to_focus = 10.0;\n",
        "  auto aperture = 0.1;\n",
        "  const double aspect_ratio = static_cast<double>(image_width) / image_height;\n",
        "  Camera camera(lookfrom, lookat, vup, 20, aspect_ratio, aperture, dist_to_focus);\n",
        "  return Scene(image_width, image_height,\n",
        "               /*samples_per_pixel=*/10,\n",
        "               /*max_depth=*/50, CreateRandomWorld(), std::move(camera));\n",
        "}"
      ],
      "execution_count": 8,
      "outputs": [
        {
          "output_type": "stream",
          "name": "stdout",
          "text": [
            "Writing ray_tracer_main.cc\n"
          ]
        }
      ]
    },
    {
      "cell_type": "markdown",
      "metadata": {
        "id": "Gdy2jQumjMz4"
      },
      "source": [
        "### ray_tracer_wrapper.pyx"
      ]
    },
    {
      "cell_type": "code",
      "metadata": {
        "colab": {
          "base_uri": "https://localhost:8080/"
        },
        "id": "0ZDYUBF1Y8lx",
        "outputId": "dbf65896-a6ce-4107-feb0-1b7bb0d76816"
      },
      "source": [
        "%%file ray_tracer_wrapper.pyx\n",
        "\n",
        "from IPython import display\n",
        "import numpy as np\n",
        "from cython.parallel import prange, threadid\n",
        "import time\n",
        "from tqdm.notebook import tqdm\n",
        "from PIL import Image\n",
        "\n",
        "from libc.stdint cimport uint8_t\n",
        "from libcpp cimport bool\n",
        "\n",
        "from ray_tracer_colab.utils.preview_display import PreviewDisplay\n",
        "\n",
        "\n",
        "cdef extern from 'ray_tracer_main.h':\n",
        "  cdef cppclass Scene:\n",
        "    bool RenderLine(int y, uint8_t* line) nogil\n",
        "  Scene CreateScene(int image_width, int image_height)\n",
        "\n",
        "\n",
        "def run_parallel(Py_ssize_t image_width, Py_ssize_t image_height):\n",
        "  # Create the bytearray to hold the ray tracer output.\n",
        "  cdef bytearray buffer = bytearray(image_width * image_height * 3)\n",
        "  # We need to explicitly declare a uint8_t pointer because we cannot access\n",
        "  # bytearray within prange().\n",
        "  cdef uint8_t* ptr = buffer\n",
        "  cdef uint8_t* line\n",
        "\n",
        "  cdef Py_ssize_t y\n",
        "  cdef Scene scene = CreateScene(image_width, image_height)\n",
        "\n",
        "  progress_bar = tqdm(total=image_height)\n",
        "  preview = PreviewDisplay(every_n_sec=10.0, image_width=image_width,\n",
        "                           image_height=image_height)\n",
        "\n",
        "  # 'dynamic' schedule allows each thread to pick one line at a time, and thus\n",
        "  # makes sure all threads will be busy for the entire image.\n",
        "  for y in prange(image_height, nogil=True, schedule='dynamic'):\n",
        "    with gil:\n",
        "      progress_bar.update(1)\n",
        "      preview.maybe_update(buffer)\n",
        "    # The row 0 in a PIL Image buffer is at the top, while in our image space\n",
        "    # y = 0 is the bottom row, so we flip it here to find the pointer to the\n",
        "    # correct output line.\n",
        "    line = ptr + (image_height - y - 1) * image_width * 3\n",
        "    scene.RenderLine(y, line)\n",
        "\n",
        "  # Final update to progress bar and preview image.\n",
        "  progress_bar.close()\n",
        "  preview.update(buffer)\n",
        "  return preview.get_image()"
      ],
      "execution_count": 12,
      "outputs": [
        {
          "output_type": "stream",
          "name": "stdout",
          "text": [
            "Overwriting ray_tracer_wrapper.pyx\n"
          ]
        }
      ]
    },
    {
      "cell_type": "markdown",
      "metadata": {
        "id": "PLH80_3e6VI1"
      },
      "source": [
        "### Build module"
      ]
    },
    {
      "cell_type": "code",
      "metadata": {
        "colab": {
          "base_uri": "https://localhost:8080/"
        },
        "id": "B5TNAR-8oCun",
        "outputId": "b03ca5ba-8c2f-4a2d-8310-b765fb544aa9"
      },
      "source": [
        "ray_tracer_wrapper = cython_colab.build_extension('ray_tracer_wrapper')"
      ],
      "execution_count": 13,
      "outputs": [
        {
          "output_type": "stream",
          "name": "stdout",
          "text": [
            "Build extension ray_tracer_wrapper ...\n",
            "Next reload number: 2\n",
            "Compiling ray_tracer_wrapper.pyx because it changed.\n",
            "[1/1] Cythonizing ray_tracer_wrapper.pyx\n",
            "running build_ext\n",
            "building 'ray_tracer_wrapper' extension\n",
            "x86_64-linux-gnu-gcc -pthread -Wno-unused-result -Wsign-compare -DNDEBUG -g -fwrapv -O2 -Wall -g -fdebug-prefix-map=/build/python3.7-Y7dWVB/python3.7-3.7.12=. -fstack-protector-strong -Wformat -Werror=format-security -g -fdebug-prefix-map=/build/python3.7-Y7dWVB/python3.7-3.7.12=. -fstack-protector-strong -Wformat -Werror=format-security -Wdate-time -D_FORTIFY_SOURCE=2 -fPIC -I/usr/include/python3.7m -c ray_tracer_wrapper.cpp -o build/temp.linux-x86_64-3.7/ray_tracer_wrapper.o -std=c++17 -Iray_tracer_colab/include -fopenmp\n",
            "x86_64-linux-gnu-gcc -pthread -Wno-unused-result -Wsign-compare -DNDEBUG -g -fwrapv -O2 -Wall -g -fdebug-prefix-map=/build/python3.7-Y7dWVB/python3.7-3.7.12=. -fstack-protector-strong -Wformat -Werror=format-security -g -fdebug-prefix-map=/build/python3.7-Y7dWVB/python3.7-3.7.12=. -fstack-protector-strong -Wformat -Werror=format-security -Wdate-time -D_FORTIFY_SOURCE=2 -fPIC -I/usr/include/python3.7m -c ray_tracer_main.cc -o build/temp.linux-x86_64-3.7/ray_tracer_main.o -std=c++17 -Iray_tracer_colab/include -fopenmp\n",
            "x86_64-linux-gnu-gcc -pthread -Wno-unused-result -Wsign-compare -DNDEBUG -g -fwrapv -O2 -Wall -g -fdebug-prefix-map=/build/python3.7-Y7dWVB/python3.7-3.7.12=. -fstack-protector-strong -Wformat -Werror=format-security -g -fdebug-prefix-map=/build/python3.7-Y7dWVB/python3.7-3.7.12=. -fstack-protector-strong -Wformat -Werror=format-security -Wdate-time -D_FORTIFY_SOURCE=2 -fPIC -I/usr/include/python3.7m -c ray_tracer_colab/src/scene.cc -o build/temp.linux-x86_64-3.7/ray_tracer_colab/src/scene.o -std=c++17 -Iray_tracer_colab/include -fopenmp\n",
            "x86_64-linux-gnu-g++ -pthread -shared -Wl,-O1 -Wl,-Bsymbolic-functions -Wl,-Bsymbolic-functions -Wl,-z,relro -Wl,-Bsymbolic-functions -Wl,-z,relro -g -fdebug-prefix-map=/build/python3.7-Y7dWVB/python3.7-3.7.12=. -fstack-protector-strong -Wformat -Werror=format-security -Wdate-time -D_FORTIFY_SOURCE=2 build/temp.linux-x86_64-3.7/ray_tracer_wrapper.o build/temp.linux-x86_64-3.7/ray_tracer_main.o build/temp.linux-x86_64-3.7/ray_tracer_colab/src/scene.o -o /content/ray_tracer_wrapper.cpython-37m-x86_64-linux-gnu.so -fopenmp\n",
            "Build exit code: 0\n",
            "Loading extension ray_tracer_wrapper.reload2.so ...\n"
          ]
        }
      ]
    },
    {
      "cell_type": "markdown",
      "metadata": {
        "id": "4CDmx6miWmpg"
      },
      "source": [
        "### Test"
      ]
    },
    {
      "cell_type": "code",
      "metadata": {
        "colab": {
          "base_uri": "https://localhost:8080/",
          "height": 229,
          "referenced_widgets": [
            "704d3e29c9ff4860a8119ee1a4776cc2",
            "92ccee922d874249b9ba8a0c4d666383",
            "74a50066e0334c0699941db7e3830866",
            "2a99189e7397455d8c76fd4f8a47c4bb",
            "3cbc408552c84713ae168648f0a7dadf",
            "5e74bd0df3224265be128f6d42522dd0",
            "f0203944b18349be86dd299c52f70aa7",
            "3227f46d057e42edbee545f4e251b4e6",
            "134485b4a47143b19c3fd7291f00b161",
            "c1f0d990139444388a8e5489f4970c00",
            "93f844627d9e476cbe1cb3ceb3879f53"
          ]
        },
        "id": "WMZl9SupZsRK",
        "outputId": "0a45f790-45bd-4bde-f24c-9a36ee9f6612"
      },
      "source": [
        "#img = ray_tracer_wrapper.run(240, 180)\n",
        "#img = ray_tracer_wrapper.run(1200, 645)\n",
        "#img = ray_tracer_wrapper.run_parallel(64, 32)\n",
        "img = ray_tracer_wrapper.run_parallel(240, 180)\n",
        "#img = ray_tracer_wrapper.run_parallel(1200, 645)\n",
        "#Image.fromarray((img * 255).astype(np.uint8))"
      ],
      "execution_count": 14,
      "outputs": [
        {
          "output_type": "display_data",
          "data": {
            "application/vnd.jupyter.widget-view+json": {
              "model_id": "704d3e29c9ff4860a8119ee1a4776cc2",
              "version_minor": 0,
              "version_major": 2
            },
            "text/plain": [
              "  0%|          | 0/180 [00:00<?, ?it/s]"
            ]
          },
          "metadata": {}
        },
        {
          "output_type": "display_data",
          "data": {
            "image/png": "[encoded data removed]",
            "text/plain": [
              "<PIL.Image.Image image mode=RGB size=240x180 at 0x7F229D2AC910>"
            ]
          },
          "metadata": {}
        }
      ]
    },
    {
      "cell_type": "markdown",
      "metadata": {
        "id": "MHTeHSQLMShX"
      },
      "source": [
        "## Reload local modules\n",
        "\n",
        "This is needed to reload the modified Python modules from the local directory."
      ]
    },
    {
      "cell_type": "code",
      "metadata": {
        "id": "3KXeuTX1VvoJ",
        "colab": {
          "base_uri": "https://localhost:8080/"
        },
        "outputId": "401b6ec5-3c4e-47af-c3c2-3ce7c2de25aa"
      },
      "source": [
        "from importlib import reload\n",
        "import utils.preview_display\n",
        "reload(utils.preview_display)"
      ],
      "execution_count": 38,
      "outputs": [
        {
          "output_type": "execute_result",
          "data": {
            "text/plain": [
              "<module 'utils.preview_display' from '/Users/cpwang/Programs/ray-tracer-colab/utils/preview_display.py'>"
            ]
          },
          "metadata": {},
          "execution_count": 38
        }
      ]
    },
    {
      "cell_type": "code",
      "metadata": {
        "id": "oX-PXyIpMjqP"
      },
      "source": [
        ""
      ],
      "execution_count": null,
      "outputs": []
    }
  ]
}