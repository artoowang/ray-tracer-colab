{
  "nbformat": 4,
  "nbformat_minor": 0,
  "metadata": {
    "colab": {
      "name": "Cython+C Workflow Template",
      "provenance": [],
      "collapsed_sections": [
        "BKh2p3vMYoax",
        "tqEJLNykYg_f"
      ],
      "toc_visible": true,
      "authorship_tag": "ABX9TyOHXx1U1hEPD207xAwA8Jnn",
      "include_colab_link": true
    },
    "kernelspec": {
      "name": "python3",
      "display_name": "Python 3"
    },
    "language_info": {
      "name": "python"
    }
  },
  "cells": [
    {
      "cell_type": "markdown",
      "metadata": {
        "id": "view-in-github",
        "colab_type": "text"
      },
      "source": [
        "<a href=\"https://colab.research.google.com/github/artoowang/ray-tracer-colab/blob/main/Cython%2BC_Workflow_Template.ipynb\" target=\"_parent\"><img src=\"https://colab.research.google.com/assets/colab-badge.svg\" alt=\"Open In Colab\"/></a>"
      ]
    },
    {
      "cell_type": "markdown",
      "metadata": {
        "id": "5rOcR1UEYNWQ"
      },
      "source": [
        "# Cython+C Workflow Utilities"
      ]
    },
    {
      "cell_type": "code",
      "metadata": {
        "id": "K_m0eKfeeIsj"
      },
      "source": [
        "import os\n",
        "import re\n",
        "import importlib.util\n",
        "from typing import Tuple\n",
        "\n",
        "def _extract_reload_number(ext_path: str) -> int:\n",
        "  \"\"\"Returns the reload number of the given extension path.\n",
        "\n",
        "  E.g.,\n",
        "  _extract_reload_number('/usr/local/lib/python3.7/dist-packages/helloworld.reload6.so')\n",
        "  returns 6.\n",
        "  \"\"\"\n",
        "  result = re.search(r'\\.reload([0-9]*)\\.so', ext_path)\n",
        "  if not result:\n",
        "    raise ValueError(\n",
        "        f'Failed to extract reload number from module path: {ext_path}')\n",
        "  return int(result[1])\n",
        "\n",
        "\n",
        "def _find_latest_reload_extension(ext_name: str) -> Tuple[int, str]:\n",
        "  \"\"\"Returns the reload number and path of the latest extension |ext_name|.\n",
        "\n",
        "  Returns (reload number, extension path) tuple.\n",
        "  \"\"\"\n",
        "  reload_module_pattern = f'{ext_name}.reload*.so'\n",
        "  reload_module_paths = !ls -1 {reload_module_pattern} 2> /dev/null\n",
        "  if len(reload_module_paths) == 0:\n",
        "    return (0, None)\n",
        "  reload_number_modules = [(_extract_reload_number(module_path), module_path)\n",
        "                           for module_path in reload_module_paths]\n",
        "  return max(reload_number_modules)\n",
        "\n",
        "\n",
        "def _build(setup_path, ext_name=None):\n",
        "  \"\"\"Builds the extension with the given setup file path and extension name.\n",
        "\n",
        "  Args:\n",
        "    setup_path: The path to a Python file for Python module setup.\n",
        "    ext_name: Optional. When given, it is used as the Python module name.\n",
        "      Otherwise, the module name is derived from the setup Python file path with\n",
        "      the pattern {module_name}_setup.py. It is assumed that the setup file is\n",
        "      configured to create a module with this name.\n",
        "\n",
        "  Returns:\n",
        "    The path to the new, renamed module with reload<N>, where N is a new\n",
        "    reload number above all the existing reload modules.\n",
        "    E.g., if we already have helloworld.reload6.so and helloworld.reload7.so,\n",
        "    then this will build helloworld.reload8.so and returns the path to it.\n",
        "  \"\"\"\n",
        "  # Extract extension name from |setup_path|.\n",
        "  result = re.match(r'(.*/)?([^/]+)_setup.py', setup_path)\n",
        "  if result:\n",
        "    ext_name = result[2]\n",
        "  print(f'Build module {ext_name} ...')\n",
        "\n",
        "  next_reload_number = _find_latest_reload_extension(ext_name)[0] + 1\n",
        "  print(f'Next reload number: {next_reload_number}')\n",
        "  # Use build_ext --inplace to build the module in the working directory.\n",
        "  !python3 {setup_path} build_ext --inplace\n",
        "  new_module_pattern = f'{ext_name}.cpython-*.so'\n",
        "  new_reload_module_path = f'{ext_name}.reload{next_reload_number}.so'\n",
        "  !mv {new_module_pattern} {new_reload_module_path}\n",
        "  if not os.path.exists(new_reload_module_path):\n",
        "    raise ValueError(f'Failed to create module at {new_reload_module_path}')\n",
        "  return new_reload_module_path\n",
        "\n",
        "\n",
        "def _reload_extension(ext_name: str):\n",
        "  \"\"\"Reloads the extension |ext_name|.\n",
        "\n",
        "  Returns the reloaded extension module.\n",
        "  \"\"\"\n",
        "  _, ext_path = _find_latest_reload_extension(ext_name)\n",
        "  if not ext_path:\n",
        "    raise ValueError(f'Cannot find extension {ext_name}.') \n",
        "  print(f'Loading extension {ext_path} ...')\n",
        "  spec = importlib.util.spec_from_file_location(ext_name, ext_path)\n",
        "  module = importlib.util.module_from_spec(spec)\n",
        "  spec.loader.exec_module(module)\n",
        "  return module\n",
        "\n",
        "def build_and_reload_extension(ext_name: str):\n",
        "  \"\"\"Builds and reloads the extension |ext_name|.\n",
        "\n",
        "  Returns the reloaded extension module.\n",
        "  \"\"\"\n",
        "  _build(f'{ext_name}_setup.py')\n",
        "  return _reload_extension(ext_name)"
      ],
      "execution_count": 37,
      "outputs": []
    },
    {
      "cell_type": "markdown",
      "metadata": {
        "id": "U5Oxe7FeYZ37"
      },
      "source": [
        "# Example"
      ]
    },
    {
      "cell_type": "markdown",
      "metadata": {
        "id": "AB3ixhLIWWsC"
      },
      "source": [
        "### Cython setup"
      ]
    },
    {
      "cell_type": "code",
      "metadata": {
        "colab": {
          "base_uri": "https://localhost:8080/"
        },
        "id": "U3-PV-nmZay7",
        "outputId": "13c352e4-622d-4743-d56c-6d29bd0531c8"
      },
      "source": [
        "%%file example_mod_setup.py\n",
        "\n",
        "from distutils.core import setup  \n",
        "from distutils.extension import Extension  \n",
        "from Cython.Build import cythonize\n",
        "import sys\n",
        "\n",
        "# It is important to make sure the extension name, .pyx file, and this setup\n",
        "# file names are all consistent with each other. E.g., to build a module called\n",
        "# 'example_mod', the extension name should be 'example_mod', .pyx file should be\n",
        "# example_mod.pyx, and the setup file should be example_mod_setup.py. These are\n",
        "# used in various places in the module reload utility methods.\n",
        "module_name = 'example_mod'\n",
        "\n",
        "# OpenMP setup is platform dependent.\n",
        "if sys.platform == 'darwin':\n",
        "  sys_dep_compile_args = [\n",
        "      '-Wno-unreachable-code',\n",
        "      '-Wp,-fopenmp',\n",
        "  ]\n",
        "  sys_dep_link_args = [\n",
        "      '-Wp,-fopenmp',\n",
        "      '-lomp',\n",
        "  ]\n",
        "else:\n",
        "  sys_dep_compile_args = ['-fopenmp']\n",
        "  sys_dep_link_args = ['-fopenmp']\n",
        "\n",
        "extensions = [\n",
        "  Extension(module_name, [\n",
        "                f'{module_name}.pyx',\n",
        "                'example.cc',\n",
        "            ],\n",
        "            language='c++',\n",
        "            extra_compile_args=[\n",
        "                '-std=c++17',\n",
        "            ] + sys_dep_compile_args,\n",
        "            extra_link_args=sys_dep_link_args,\n",
        "           ),\n",
        "]\n",
        "\n",
        "setup(ext_modules = cythonize(extensions, language_level='3'))"
      ],
      "execution_count": 2,
      "outputs": [
        {
          "output_type": "stream",
          "name": "stdout",
          "text": [
            "Overwriting example_mod_setup.py\n"
          ]
        }
      ]
    },
    {
      "cell_type": "markdown",
      "metadata": {
        "id": "6ddUp8cAfAkk"
      },
      "source": [
        "### C++ sources"
      ]
    },
    {
      "cell_type": "code",
      "metadata": {
        "colab": {
          "base_uri": "https://localhost:8080/"
        },
        "id": "BP-HjeOrYWyL",
        "outputId": "ce5fde07-b1f7-4296-d301-6d31a736779f"
      },
      "source": [
        "%%file example.h\n",
        "\n",
        "#ifndef EXAMPLE_H\n",
        "#define EXAMPLE_H\n",
        "\n",
        "int AddOne(int val);\n",
        "\n",
        "#endif  // EXAMPLE_H"
      ],
      "execution_count": 38,
      "outputs": [
        {
          "output_type": "stream",
          "name": "stdout",
          "text": [
            "Overwriting example.h\n"
          ]
        }
      ]
    },
    {
      "cell_type": "code",
      "metadata": {
        "colab": {
          "base_uri": "https://localhost:8080/"
        },
        "id": "r7ZsyH2zaIff",
        "outputId": "996b10ca-dd6e-48bf-c3bb-a25bab13a0cf"
      },
      "source": [
        "%%file example.cc\n",
        "\n",
        "#include \"example.h\"\n",
        "\n",
        "int AddOne(int val) {\n",
        "  return val + 1;\n",
        "}"
      ],
      "execution_count": 39,
      "outputs": [
        {
          "output_type": "stream",
          "name": "stdout",
          "text": [
            "Overwriting example.cc\n"
          ]
        }
      ]
    },
    {
      "cell_type": "markdown",
      "metadata": {
        "id": "Gdy2jQumjMz4"
      },
      "source": [
        "### Cython sources"
      ]
    },
    {
      "cell_type": "code",
      "metadata": {
        "colab": {
          "base_uri": "https://localhost:8080/"
        },
        "id": "0ZDYUBF1Y8lx",
        "outputId": "6946d761-6a94-4502-c9c7-4846e7ac04fc"
      },
      "source": [
        "%%file example_mod.pyx\n",
        "\n",
        "cimport cython\n",
        "from cpython cimport array\n",
        "\n",
        "from cython.parallel import prange\n",
        "\n",
        "\n",
        "cdef extern from 'example.h':\n",
        "  int AddOne(int val) nogil\n",
        "\n",
        "\n",
        "@cython.boundscheck(False)\n",
        "def run(Py_ssize_t length):\n",
        "  cdef array.array buffer = array.array('i', [i for i in range(length)])\n",
        "  cdef int[:] buffer_view = buffer\n",
        "  cdef Py_ssize_t i\n",
        "  for i in prange(length, nogil=True):\n",
        "    buffer_view[i] = AddOne(buffer_view[i])\n",
        "  return list(buffer)"
      ],
      "execution_count": 40,
      "outputs": [
        {
          "output_type": "stream",
          "name": "stdout",
          "text": [
            "Overwriting example_mod.pyx\n"
          ]
        }
      ]
    },
    {
      "cell_type": "markdown",
      "metadata": {
        "id": "PLH80_3e6VI1"
      },
      "source": [
        "### Build and test"
      ]
    },
    {
      "cell_type": "code",
      "metadata": {
        "colab": {
          "base_uri": "https://localhost:8080/"
        },
        "id": "jWHn2sRMZotU",
        "outputId": "2b5abd80-335c-4088-e0ab-7b52935dd30d"
      },
      "source": [
        "example_mod = build_and_reload('example_mod')\n",
        "example_mod.run(10)"
      ],
      "execution_count": 41,
      "outputs": [
        {
          "output_type": "stream",
          "name": "stdout",
          "text": [
            "Build module example_mod ...\n",
            "Next reload number: 9\n",
            "Compiling example_mod.pyx because it changed.\n",
            "[1/1] Cythonizing example_mod.pyx\n",
            "running build_ext\n",
            "building 'example_mod' extension\n",
            "x86_64-linux-gnu-gcc -pthread -Wno-unused-result -Wsign-compare -DNDEBUG -g -fwrapv -O2 -Wall -g -fdebug-prefix-map=/build/python3.7-Y7dWVB/python3.7-3.7.12=. -fstack-protector-strong -Wformat -Werror=format-security -g -fdebug-prefix-map=/build/python3.7-Y7dWVB/python3.7-3.7.12=. -fstack-protector-strong -Wformat -Werror=format-security -Wdate-time -D_FORTIFY_SOURCE=2 -fPIC -I/usr/include/python3.7m -c example_mod.cpp -o build/temp.linux-x86_64-3.7/example_mod.o -std=c++17 -fopenmp\n",
            "x86_64-linux-gnu-gcc -pthread -Wno-unused-result -Wsign-compare -DNDEBUG -g -fwrapv -O2 -Wall -g -fdebug-prefix-map=/build/python3.7-Y7dWVB/python3.7-3.7.12=. -fstack-protector-strong -Wformat -Werror=format-security -g -fdebug-prefix-map=/build/python3.7-Y7dWVB/python3.7-3.7.12=. -fstack-protector-strong -Wformat -Werror=format-security -Wdate-time -D_FORTIFY_SOURCE=2 -fPIC -I/usr/include/python3.7m -c example.cc -o build/temp.linux-x86_64-3.7/example.o -std=c++17 -fopenmp\n",
            "x86_64-linux-gnu-g++ -pthread -shared -Wl,-O1 -Wl,-Bsymbolic-functions -Wl,-Bsymbolic-functions -Wl,-z,relro -Wl,-Bsymbolic-functions -Wl,-z,relro -g -fdebug-prefix-map=/build/python3.7-Y7dWVB/python3.7-3.7.12=. -fstack-protector-strong -Wformat -Werror=format-security -Wdate-time -D_FORTIFY_SOURCE=2 build/temp.linux-x86_64-3.7/example_mod.o build/temp.linux-x86_64-3.7/example.o -o /content/example_mod.cpython-37m-x86_64-linux-gnu.so -fopenmp\n",
            "Loading extension example_mod.reload9.so ...\n"
          ]
        },
        {
          "output_type": "execute_result",
          "data": {
            "text/plain": [
              "[1, 2, 3, 4, 5, 6, 7, 8, 9, 10]"
            ]
          },
          "metadata": {},
          "execution_count": 41
        }
      ]
    },
    {
      "cell_type": "code",
      "metadata": {
        "id": "CZqol1L_ZZNT"
      },
      "source": [
        ""
      ],
      "execution_count": null,
      "outputs": []
    }
  ]
}